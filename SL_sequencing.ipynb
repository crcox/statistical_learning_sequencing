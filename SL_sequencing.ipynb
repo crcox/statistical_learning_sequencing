{
  "cells": [
    {
      "cell_type": "markdown",
      "metadata": {
        "id": "urbn6WxnD4kf"
      },
      "source": [
        "# Setup and Functions\n",
        "\n",
        "The following script and [module](/sl_sequencing.py) were written by [Harrison Gietz](https://www.linkedin.com/in/harrison-gietz-24ab191b5/) with modifcations from Will Decker."
      ]
    },
    {
      "cell_type": "code",
      "execution_count": 2,
      "metadata": {},
      "outputs": [],
      "source": [
        "import numpy as np\n",
        "import random\n",
        "from collections import Counter\n",
        "import os\n",
        "import pandas as pd\n",
        "from itertools import permutations, chain\n",
        "import sl_sequencing as sls"
      ]
    },
    {
      "cell_type": "code",
      "execution_count": 3,
      "metadata": {
        "id": "DkPW6yv4xpQM"
      },
      "outputs": [],
      "source": [
        "np.random.seed(42) # for replicability\n",
        "\n",
        "# _____________________change these variables depending on what you want, then run the rest_________________________\n",
        "total = 792\n",
        "vector_size = 12 # a non-zero indexed vextor\n",
        "number_of_transitions_allowed = total/len(list(permutations(np.linspace(0, vector_size-1, vector_size), 2)))\n",
        "# ___________________________________________________________________________________________________________________\n",
        "\n",
        "def get_random_except(excluded_numbers, numbers):\n",
        "    \"\"\"Return a random number from the second list, excluding numbers in the given first list.\"\"\"\n",
        "    choices = [x for x in numbers if x not in excluded_numbers]\n",
        "\n",
        "    if not choices:\n",
        "        raise ValueError(\"No numbers left to choose from after excluding the given numbers.\")\n",
        "\n",
        "    return random.choice(choices)\n",
        "\n",
        "\n",
        "def count_numbers(lst):\n",
        "    \"\"\"function used for verifying answers and correct number counts at the end\"\"\"\n",
        "    counts = Counter(lst)\n",
        "    for number, count in sorted(counts.items()):\n",
        "        print(f\"{number}: {count}\")\n",
        "\n",
        "def count_sublist(main_list, sublist):\n",
        "    \"\"\"function used for verifying answers and correct transition counts at the end\"\"\"\n",
        "    count = 0\n",
        "    sublist_length = len(sublist)\n",
        "\n",
        "    for i in range(len(main_list) - sublist_length + 1):\n",
        "        if main_list[i:i + sublist_length] == sublist:\n",
        "            count += 1\n",
        "\n",
        "    return count\n",
        "\n",
        "possible_nums = range(1,vector_size+1)"
      ]
    },
    {
      "cell_type": "markdown",
      "metadata": {
        "id": "YQtNQsMsD8z-"
      },
      "source": [
        "# Actually Finding the Numbers"
      ]
    },
    {
      "cell_type": "code",
      "execution_count": 5,
      "metadata": {
        "colab": {
          "base_uri": "https://localhost:8080/"
        },
        "id": "g7e5BvaQzGOY",
        "outputId": "ed899a87-bd6a-4bb6-c310-73e023bd47be"
      },
      "outputs": [
        {
          "name": "stdout",
          "output_type": "stream",
          "text": [
            "number of times tried: 1\n",
            "number of times tried: 2\n",
            "number of times tried: 3\n",
            "number of times tried: 4\n",
            "number of times tried: 5\n",
            "number of times tried: 6\n",
            "number of times tried: 7\n",
            "number of times tried: 8\n",
            "number of times tried: 9\n",
            "Holy shit here's the answer\n",
            "[8, 3, 1, 2, 8, 4, 10, 5, 11, 3, 9, 5, 6, 9, 10, 2, 5, 3, 12, 1, 10, 4, 1, 10, 5, 2, 4, 8, 5, 6, 5, 1, 7, 1, 2, 12, 4, 7, 9, 12, 2, 8, 3, 12, 9, 6, 7, 10, 9, 8, 4, 2, 3, 6, 5, 8, 2, 1, 10, 5, 11, 8, 1, 4, 11, 3, 5, 9, 6, 4, 9, 6, 2, 8, 11, 8, 5, 3, 1, 8, 5, 2, 6, 3, 11, 12, 9, 10, 9, 12, 11, 1, 12, 9, 3, 1, 2, 6, 4, 6, 1, 5, 7, 6, 3, 11, 5, 1, 6, 8, 1, 5, 2, 8, 2, 6, 2, 8, 2, 8, 12, 10, 1, 12, 2, 11, 2, 9, 3, 6, 11, 2, 6, 9, 2, 1, 4, 2, 12, 1, 11, 2, 1, 2, 4, 10, 5, 1, 4, 2, 7, 8, 11, 4, 9, 11, 6, 5, 1, 12, 8, 10, 12, 9, 7, 9, 3, 2, 4, 5, 8, 10, 4, 11, 9, 2, 6, 12, 6, 1, 9, 5, 10, 6, 8, 9, 1, 8, 9, 5, 9, 10, 5, 4, 11, 7, 8, 12, 8, 6, 11, 10, 3, 12, 11, 7, 3, 7, 8, 5, 9, 8, 10, 8, 12, 1, 3, 10, 8, 7, 3, 11, 10, 9, 4, 5, 2, 12, 9, 8, 3, 9, 6, 12, 8, 4, 2, 11, 3, 1, 9, 3, 2, 3, 9, 7, 12, 4, 1, 7, 11, 3, 8, 5, 11, 2, 1, 9, 8, 11, 9, 8, 12, 11, 6, 10, 2, 3, 9, 1, 11, 5, 8, 5, 4, 1, 12, 10, 5, 12, 6, 11, 7, 3, 7, 2, 9, 10, 6, 11, 3, 5, 12, 5, 3, 2, 5, 4, 10, 2, 4, 6, 12, 11, 8, 6, 2, 7, 12, 10, 2, 4, 3, 4, 5, 12, 4, 1, 10, 3, 11, 4, 11, 4, 3, 9, 3, 12, 11, 1, 3, 2, 9, 10, 6, 2, 1, 7, 11, 3, 12, 6, 11, 8, 6, 11, 6, 12, 5, 9, 3, 10, 3, 2, 1, 9, 12, 2, 10, 3, 8, 7, 2, 5, 2, 12, 1, 4, 10, 12, 6, 5, 8, 3, 10, 9, 11, 6, 7, 10, 6, 7, 4, 1, 7, 6, 10, 8, 6, 4, 11, 5, 1, 4, 9, 2, 3, 1, 8, 7, 6, 2, 9, 1, 7, 10, 6, 2, 4, 9, 1, 8, 3, 4, 10, 7, 8, 2, 7, 4, 10, 7, 4, 7, 9, 11, 2, 10, 6, 9, 6, 5, 11, 4, 9, 5, 12, 4, 5, 11, 4, 3, 5, 3, 12, 10, 7, 2, 10, 2, 12, 2, 7, 10, 4, 3, 1, 4, 12, 5, 9, 8, 3, 11, 8, 4, 5, 1, 2, 6, 12, 11, 1, 7, 8, 2, 5, 11, 4, 2, 11, 12, 9, 11, 10, 1, 5, 4, 3, 4, 1, 6, 4, 3, 6, 3, 11, 5, 6, 4, 7, 11, 9, 12, 10, 3, 7, 10, 8, 4, 2, 5, 7, 10, 3, 6, 3, 10, 1, 10, 8, 6, 7, 6, 5, 12, 1, 5, 9, 1, 12, 4, 7, 1, 2, 3, 4, 11, 5, 4, 12, 2, 11, 2, 12, 3, 9, 1, 5, 12, 6, 8, 7, 6, 7, 12, 6, 3, 10, 1, 8, 10, 11, 9, 5, 3, 10, 4, 12, 10, 8, 6, 3, 8, 1, 3, 4, 8, 11, 5, 3, 4, 12, 8, 2, 5, 7, 9, 2, 9, 6, 8, 1, 6, 10, 7, 12, 1, 10, 12, 4, 5, 8, 4, 9, 2, 7, 11, 1, 11, 10, 4, 8, 11, 1, 9, 4, 8, 7, 11, 12, 7, 2, 10, 12, 8, 1, 12, 3, 7, 4, 12, 8, 12, 7, 5, 7, 6, 4, 8, 11, 1, 9, 2, 3, 5, 4, 6, 9, 11, 8, 12, 7, 12, 7, 3, 6, 8, 9, 5, 7, 1, 3, 5, 2, 11, 12, 7, 5, 10, 7, 11, 10, 2, 10, 12, 5, 10, 12, 5, 6, 1, 3, 2, 9, 12, 2, 11, 9, 4, 8, 9, 11, 9, 10, 1, 11, 12, 5, 7, 12, 7, 2, 10, 4, 12, 3, 5, 8, 9, 4, 6, 8, 9, 4, 6, 7, 1, 11, 10, 7, 1, 8, 10, 11, 12, 3, 6, 9, 7, 1, 5, 6, 9, 12, 3, 8, 10, 9, 7, 3, 7, 9, 7, 9, 4, 7, 4, 6, 1, 6, 1, 11, 7, 4, 7, 3, 8, 1, 3, 8, 7, 2, 7, 5, 10, 9, 7, 5, 6, 10, 11, 6, 1, 6, 12, 3, 7, 5, 10, 1, 6, 10, 11, 6, 10, 11, 7, 5, 10, 11, 7]\n"
          ]
        }
      ],
      "source": [
        "try_count = 0\n",
        "while(True):\n",
        "    big_long_answer = []\n",
        "    start = np.random.randint(1,13)\n",
        "    # dictionary for measuring the amount of times each transition has occured\n",
        "    tally_tracker = {i: {j: 0 for j in range(1, vector_size+1) if j != i} for i in range(1, vector_size+1)}\n",
        "\n",
        "    try_count += 1\n",
        "    print(f'number of times tried: {try_count}')\n",
        "\n",
        "    for i in range(total):\n",
        "        excluded_numbers = [start]\n",
        "        #  loop to make sure we don't allow one transition (e.g. 6 -> 10) too many times\n",
        "        for possible_transition in tally_tracker[start].keys():\n",
        "            if tally_tracker[start][possible_transition] >= number_of_transitions_allowed:\n",
        "                excluded_numbers.append(possible_transition)\n",
        "\n",
        "        try:\n",
        "            candidate_number = get_random_except(excluded_numbers, possible_nums)\n",
        "        except:\n",
        "            break # do this break when we accidentally (randomly) exhaust all possible options for transitions\n",
        "\n",
        "        # update the dicitonary so that we know not to use this transition again\n",
        "        tally_tracker[start][candidate_number] += 1\n",
        "\n",
        "        big_long_answer.append(candidate_number)\n",
        "        start = candidate_number\n",
        "    if len(big_long_answer) == total:\n",
        "        break # this means we got to the end length successfully, while using the perfect number of transitions)\n",
        "\n",
        "print('Holy shit here\\'s the answer')\n",
        "print(big_long_answer)"
      ]
    },
    {
      "cell_type": "markdown",
      "metadata": {
        "id": "8a0X6FKzEAem"
      },
      "source": [
        "# Verifying the Answers"
      ]
    },
    {
      "cell_type": "code",
      "execution_count": 6,
      "metadata": {
        "colab": {
          "base_uri": "https://localhost:8080/"
        },
        "id": "mvLOYS2C6C2E",
        "outputId": "afd1d037-0092-4b3c-ebc8-24dda0b2bea2"
      },
      "outputs": [
        {
          "name": "stdout",
          "output_type": "stream",
          "text": [
            "final length of list: 792\n",
            "\n",
            "Checking transition counts: \n",
            "Transition counts from 1: {2: 6, 3: 6, 4: 6, 5: 6, 6: 6, 7: 6, 8: 6, 9: 6, 10: 6, 11: 6, 12: 6}\n",
            "Transition counts from 2: {1: 6, 3: 6, 4: 6, 5: 6, 6: 6, 7: 6, 8: 6, 9: 6, 10: 6, 11: 6, 12: 6}\n",
            "Transition counts from 3: {1: 6, 2: 6, 4: 6, 5: 6, 6: 6, 7: 6, 8: 6, 9: 6, 10: 6, 11: 6, 12: 6}\n",
            "Transition counts from 4: {1: 6, 2: 6, 3: 6, 5: 6, 6: 6, 7: 6, 8: 6, 9: 6, 10: 6, 11: 6, 12: 6}\n",
            "Transition counts from 5: {1: 6, 2: 6, 3: 6, 4: 6, 6: 6, 7: 6, 8: 6, 9: 6, 10: 6, 11: 6, 12: 6}\n",
            "Transition counts from 6: {1: 6, 2: 6, 3: 6, 4: 6, 5: 6, 7: 6, 8: 6, 9: 6, 10: 6, 11: 6, 12: 6}\n",
            "Transition counts from 7: {1: 6, 2: 6, 3: 6, 4: 6, 5: 6, 6: 6, 8: 6, 9: 6, 10: 6, 11: 6, 12: 6}\n",
            "Transition counts from 8: {1: 6, 2: 6, 3: 6, 4: 6, 5: 6, 6: 6, 7: 6, 9: 6, 10: 6, 11: 6, 12: 6}\n",
            "Transition counts from 9: {1: 6, 2: 6, 3: 6, 4: 6, 5: 6, 6: 6, 7: 6, 8: 6, 10: 6, 11: 6, 12: 6}\n",
            "Transition counts from 10: {1: 6, 2: 6, 3: 6, 4: 6, 5: 6, 6: 6, 7: 6, 8: 6, 9: 6, 11: 6, 12: 6}\n",
            "Transition counts from 11: {1: 6, 2: 6, 3: 6, 4: 6, 5: 6, 6: 6, 7: 6, 8: 6, 9: 6, 10: 6, 12: 6}\n",
            "Transition counts from 12: {1: 6, 2: 6, 3: 6, 4: 6, 5: 6, 6: 6, 7: 6, 8: 6, 9: 6, 10: 6, 11: 6}\n",
            "\n",
            "Double Checking transition counts (with different method): \n",
            "Transition counts for 1: \n",
            "     There were 6 transitions to 2: \n",
            "     There were 6 transitions to 3: \n",
            "     There were 6 transitions to 4: \n",
            "     There were 6 transitions to 5: \n",
            "     There were 6 transitions to 6: \n",
            "     There were 6 transitions to 7: \n",
            "     There were 6 transitions to 8: \n",
            "     There were 6 transitions to 9: \n",
            "     There were 6 transitions to 10: \n",
            "     There were 6 transitions to 11: \n",
            "     There were 6 transitions to 12: \n",
            "Transition counts for 2: \n",
            "     There were 6 transitions to 1: \n",
            "     There were 6 transitions to 3: \n",
            "     There were 6 transitions to 4: \n",
            "     There were 6 transitions to 5: \n",
            "     There were 6 transitions to 6: \n",
            "     There were 6 transitions to 7: \n",
            "     There were 6 transitions to 8: \n",
            "     There were 6 transitions to 9: \n",
            "     There were 6 transitions to 10: \n",
            "     There were 6 transitions to 11: \n",
            "     There were 6 transitions to 12: \n",
            "Transition counts for 3: \n",
            "     There were 6 transitions to 1: \n",
            "     There were 6 transitions to 2: \n",
            "     There were 6 transitions to 4: \n",
            "     There were 6 transitions to 5: \n",
            "     There were 6 transitions to 6: \n",
            "     There were 6 transitions to 7: \n",
            "     There were 6 transitions to 8: \n",
            "     There were 6 transitions to 9: \n",
            "     There were 6 transitions to 10: \n",
            "     There were 6 transitions to 11: \n",
            "     There were 6 transitions to 12: \n",
            "Transition counts for 4: \n",
            "     There were 6 transitions to 1: \n",
            "     There were 6 transitions to 2: \n",
            "     There were 6 transitions to 3: \n",
            "     There were 6 transitions to 5: \n",
            "     There were 6 transitions to 6: \n",
            "     There were 6 transitions to 7: \n",
            "     There were 6 transitions to 8: \n",
            "     There were 6 transitions to 9: \n",
            "     There were 6 transitions to 10: \n",
            "     There were 6 transitions to 11: \n",
            "     There were 6 transitions to 12: \n",
            "Transition counts for 5: \n",
            "     There were 6 transitions to 1: \n",
            "     There were 6 transitions to 2: \n",
            "     There were 6 transitions to 3: \n",
            "     There were 6 transitions to 4: \n",
            "     There were 6 transitions to 6: \n",
            "     There were 6 transitions to 7: \n",
            "     There were 6 transitions to 8: \n",
            "     There were 6 transitions to 9: \n",
            "     There were 6 transitions to 10: \n",
            "     There were 6 transitions to 11: \n",
            "     There were 6 transitions to 12: \n",
            "Transition counts for 6: \n",
            "     There were 6 transitions to 1: \n",
            "     There were 6 transitions to 2: \n",
            "     There were 6 transitions to 3: \n",
            "     There were 6 transitions to 4: \n",
            "     There were 6 transitions to 5: \n",
            "     There were 6 transitions to 7: \n",
            "     There were 6 transitions to 8: \n",
            "     There were 6 transitions to 9: \n",
            "     There were 6 transitions to 10: \n",
            "     There were 6 transitions to 11: \n",
            "     There were 6 transitions to 12: \n",
            "Transition counts for 7: \n",
            "     There were 6 transitions to 1: \n",
            "     There were 6 transitions to 2: \n",
            "     There were 6 transitions to 3: \n",
            "     There were 6 transitions to 4: \n",
            "     There were 6 transitions to 5: \n",
            "     There were 6 transitions to 6: \n",
            "     There were 5 transitions to 8: \n",
            "     There were 6 transitions to 9: \n",
            "     There were 6 transitions to 10: \n",
            "     There were 6 transitions to 11: \n",
            "     There were 6 transitions to 12: \n",
            "Transition counts for 8: \n",
            "     There were 6 transitions to 1: \n",
            "     There were 6 transitions to 2: \n",
            "     There were 6 transitions to 3: \n",
            "     There were 6 transitions to 4: \n",
            "     There were 6 transitions to 5: \n",
            "     There were 6 transitions to 6: \n",
            "     There were 6 transitions to 7: \n",
            "     There were 6 transitions to 9: \n",
            "     There were 6 transitions to 10: \n",
            "     There were 6 transitions to 11: \n",
            "     There were 6 transitions to 12: \n",
            "Transition counts for 9: \n",
            "     There were 6 transitions to 1: \n",
            "     There were 6 transitions to 2: \n",
            "     There were 6 transitions to 3: \n",
            "     There were 6 transitions to 4: \n",
            "     There were 6 transitions to 5: \n",
            "     There were 6 transitions to 6: \n",
            "     There were 6 transitions to 7: \n",
            "     There were 6 transitions to 8: \n",
            "     There were 6 transitions to 10: \n",
            "     There were 6 transitions to 11: \n",
            "     There were 6 transitions to 12: \n",
            "Transition counts for 10: \n",
            "     There were 6 transitions to 1: \n",
            "     There were 6 transitions to 2: \n",
            "     There were 6 transitions to 3: \n",
            "     There were 6 transitions to 4: \n",
            "     There were 6 transitions to 5: \n",
            "     There were 6 transitions to 6: \n",
            "     There were 6 transitions to 7: \n",
            "     There were 6 transitions to 8: \n",
            "     There were 6 transitions to 9: \n",
            "     There were 6 transitions to 11: \n",
            "     There were 6 transitions to 12: \n",
            "Transition counts for 11: \n",
            "     There were 6 transitions to 1: \n",
            "     There were 6 transitions to 2: \n",
            "     There were 6 transitions to 3: \n",
            "     There were 6 transitions to 4: \n",
            "     There were 6 transitions to 5: \n",
            "     There were 6 transitions to 6: \n",
            "     There were 6 transitions to 7: \n",
            "     There were 6 transitions to 8: \n",
            "     There were 6 transitions to 9: \n",
            "     There were 6 transitions to 10: \n",
            "     There were 6 transitions to 12: \n",
            "Transition counts for 12: \n",
            "     There were 6 transitions to 1: \n",
            "     There were 6 transitions to 2: \n",
            "     There were 6 transitions to 3: \n",
            "     There were 6 transitions to 4: \n",
            "     There were 6 transitions to 5: \n",
            "     There were 6 transitions to 6: \n",
            "     There were 6 transitions to 7: \n",
            "     There were 6 transitions to 8: \n",
            "     There were 6 transitions to 9: \n",
            "     There were 6 transitions to 10: \n",
            "     There were 6 transitions to 11: \n",
            "\n",
            "Checking number counts: \n",
            "1: 66\n",
            "2: 66\n",
            "3: 66\n",
            "4: 66\n",
            "5: 66\n",
            "6: 66\n",
            "7: 66\n",
            "8: 66\n",
            "9: 66\n",
            "10: 66\n",
            "11: 66\n",
            "12: 66\n"
          ]
        }
      ],
      "source": [
        "print(f'final length of list: {len(big_long_answer)}\\n')\n",
        "\n",
        "print('Checking transition counts: ')\n",
        "for i in possible_nums:\n",
        "    print(f'Transition counts from {i}: {tally_tracker[i]}')\n",
        "\n",
        "print('\\nDouble Checking transition counts (with different method): ')\n",
        "for i in possible_nums:\n",
        "    print(f'Transition counts for {i}: ')\n",
        "    remade_dict_of_transitions = {}\n",
        "    for j in possible_nums:\n",
        "        if j==i:\n",
        "            continue\n",
        "        sublist = [i,j]\n",
        "        remade_dict_of_transitions[j] = count_sublist(big_long_answer, sublist)\n",
        "    for k in remade_dict_of_transitions.keys():\n",
        "        print(f'     There were {remade_dict_of_transitions[k]} transitions to {k}: ')\n",
        "\n",
        "print('\\nChecking number counts: ')\n",
        "count_numbers(big_long_answer)"
      ]
    },
    {
      "cell_type": "markdown",
      "metadata": {
        "id": "_NDVvrdSBxFh"
      },
      "source": [
        "# Note: Small Error to Manually Correct"
      ]
    },
    {
      "cell_type": "markdown",
      "metadata": {
        "id": "tUCdojGjEJtf"
      },
      "source": [
        "## There is an error in the specified requirements (or maybe the algorithm) where one final transition is not included.\n",
        "\n",
        "\n",
        "In one case, the end of the sequence was [..., 11, 7, 4] and the start of the sequence was \"6\".\n",
        "\n",
        "For some reason, the final transition from 4 -> 6 is not added, meaning there are only 5 (not the required 6) transitions from 4 -> 6. You have to tack a 6 onto the end to meet the required number of transitions.\n",
        "\n",
        "I'm pretty sure this is because of the constraints posed in Will's email; unfortunately, the sequence actually has to be n+1 long in order to have the correct number of equal transitions, since there is no number there to be \"transitioning into\" the very first number.\n",
        "\n",
        "(I could be wrong and confused though; in either case, the \"simple fix\" here is to manually add on the first value of your sequence to the ending, and then you have the required number of transitions for each pair of numbers)"
      ]
    },
    {
      "cell_type": "markdown",
      "metadata": {},
      "source": [
        "## Trying with object"
      ]
    },
    {
      "cell_type": "code",
      "execution_count": 3,
      "metadata": {},
      "outputs": [
        {
          "name": "stdout",
          "output_type": "stream",
          "text": [
            "number of times tried: 1\n",
            "Sequence achieved\n",
            "[2, 4, 1, 4, 3, 1, 2, 1, 4, 2, 1, 2, 3, 4, 3, 2, 3, 4, 2, 3, 2, 3, 4, 3, 1, 4, 1, 3, 1, 2, 1, 3, 2, 1, 4, 2, 4, 1, 4, 3, 1, 4, 3, 1, 3, 4, 1, 4, 2, 3, 2, 1, 4, 1, 2, 1, 4, 3, 4, 1, 2, 1, 2, 3, 4, 1, 3, 2, 1, 3, 2, 4, 3, 4, 1, 2, 4, 2, 4, 2, 4, 2, 3, 4, 1, 2, 1, 3, 2, 4, 3, 2, 1, 2, 3, 4, 3, 4, 1, 3, 2, 4, 1, 3, 4, 3, 1, 3, 2, 1, 2, 3, 2, 4, 3, 1, 3, 1, 4, 2, 3, 1, 3, 1, 4, 2, 4, 2, 3, 1, 2, 4]\n",
            "total length of list: 132\n",
            "\n",
            "Checking transition counts: \n",
            "Transition counts from 1: {2: 11, 3: 11, 4: 11}\n",
            "Transition counts from 2: {1: 11, 3: 11, 4: 11}\n",
            "Transition counts from 3: {1: 11, 2: 11, 4: 11}\n",
            "Transition counts from 4: {1: 11, 2: 11, 3: 11}\n",
            "\n",
            "Double Checking transition counts (with different method): \n",
            "Transition counts for 1: \n",
            "     There were 11 transitions to 2: \n",
            "     There were 11 transitions to 3: \n",
            "     There were 11 transitions to 4: \n",
            "Transition counts for 2: \n",
            "     There were 11 transitions to 1: \n",
            "     There were 11 transitions to 3: \n",
            "     There were 11 transitions to 4: \n",
            "Transition counts for 3: \n",
            "     There were 11 transitions to 1: \n",
            "     There were 11 transitions to 2: \n",
            "     There were 11 transitions to 4: \n",
            "Transition counts for 4: \n",
            "     There were 11 transitions to 1: \n",
            "     There were 10 transitions to 2: \n",
            "     There were 11 transitions to 3: \n",
            "\n",
            "Checking number counts: \n",
            "1: 33\n",
            "2: 33\n",
            "3: 33\n",
            "4: 33\n",
            "['b', 'd', 'a', 'd', 'c', 'a', 'b', 'a', 'd', 'b', 'a', 'b', 'c', 'd', 'c', 'b', 'c', 'd', 'b', 'c', 'b', 'c', 'd', 'c', 'a', 'd', 'a', 'c', 'a', 'b', 'a', 'c', 'b', 'a', 'd', 'b', 'd', 'a', 'd', 'c', 'a', 'd', 'c', 'a', 'c', 'd', 'a', 'd', 'b', 'c', 'b', 'a', 'd', 'a', 'b', 'a', 'd', 'c', 'd', 'a', 'b', 'a', 'b', 'c', 'd', 'a', 'c', 'b', 'a', 'c', 'b', 'd', 'c', 'd', 'a', 'b', 'd', 'b', 'd', 'b', 'd', 'b', 'c', 'd', 'a', 'b', 'a', 'c', 'b', 'd', 'c', 'b', 'a', 'b', 'c', 'd', 'c', 'd', 'a', 'c', 'b', 'd', 'a', 'c', 'd', 'c', 'a', 'c', 'b', 'a', 'b', 'c', 'b', 'd', 'c', 'a', 'c', 'a', 'd', 'b', 'c', 'a', 'c', 'a', 'd', 'b', 'd', 'b', 'c', 'a', 'b', 'd']\n"
          ]
        }
      ],
      "source": [
        "# import the module\n",
        "import sl_sequencing as sls\n",
        "\n",
        "# create object\n",
        "s = sls.Sequence(total=132, vector_size=4) # non-zero indexed vector size\n",
        "\n",
        "# make sequence\n",
        "s.sequence()\n",
        "\n",
        "# print sequence\n",
        "print(s.valid_sequence)\n",
        "\n",
        "# validate sequence\n",
        "s.validate()\n",
        "\n",
        "# save sequence as .csv file to current directory\n",
        "s.save_csv('index.csv')\n",
        "\n",
        "# matching/replacing indices in valid sequence with custom values\n",
        "inpt = {\n",
        "    1: 'a', # key=value in sequence, dict values=what you want to replace in sequence\n",
        "    2: 'b',\n",
        "    3: 'c', \n",
        "    4: 'd'\n",
        "}\n",
        "s.match(inpt=inpt)\n",
        "print(s.match_sequence)\n",
        "\n",
        "# saving match sequence\n",
        "s.save_match_csv(filename='match.csv')\n",
        "\n"
      ]
    },
    {
      "cell_type": "code",
      "execution_count": 7,
      "metadata": {
        "colab": {
          "base_uri": "https://localhost:8080/"
        },
        "id": "3YN8YpHV6HdA",
        "outputId": "59c74b90-041f-4a90-da17-397692563aa7"
      },
      "outputs": [
        {
          "name": "stdout",
          "output_type": "stream",
          "text": [
            "The actual sequence:\n",
            "End:  [10, 11, 7]\n",
            "Start:  [8]\n",
            "[8, 3, 1, 2, 8, 4, 10, 5, 11, 3, 9, 5, 6, 9, 10, 2, 5, 3, 12, 1, 10, 4, 1, 10, 5, 2, 4, 8, 5, 6, 5, 1, 7, 1, 2, 12, 4, 7, 9, 12, 2, 8, 3, 12, 9, 6, 7, 10, 9, 8, 4, 2, 3, 6, 5, 8, 2, 1, 10, 5, 11, 8, 1, 4, 11, 3, 5, 9, 6, 4, 9, 6, 2, 8, 11, 8, 5, 3, 1, 8, 5, 2, 6, 3, 11, 12, 9, 10, 9, 12, 11, 1, 12, 9, 3, 1, 2, 6, 4, 6, 1, 5, 7, 6, 3, 11, 5, 1, 6, 8, 1, 5, 2, 8, 2, 6, 2, 8, 2, 8, 12, 10, 1, 12, 2, 11, 2, 9, 3, 6, 11, 2, 6, 9, 2, 1, 4, 2, 12, 1, 11, 2, 1, 2, 4, 10, 5, 1, 4, 2, 7, 8, 11, 4, 9, 11, 6, 5, 1, 12, 8, 10, 12, 9, 7, 9, 3, 2, 4, 5, 8, 10, 4, 11, 9, 2, 6, 12, 6, 1, 9, 5, 10, 6, 8, 9, 1, 8, 9, 5, 9, 10, 5, 4, 11, 7, 8, 12, 8, 6, 11, 10, 3, 12, 11, 7, 3, 7, 8, 5, 9, 8, 10, 8, 12, 1, 3, 10, 8, 7, 3, 11, 10, 9, 4, 5, 2, 12, 9, 8, 3, 9, 6, 12, 8, 4, 2, 11, 3, 1, 9, 3, 2, 3, 9, 7, 12, 4, 1, 7, 11, 3, 8, 5, 11, 2, 1, 9, 8, 11, 9, 8, 12, 11, 6, 10, 2, 3, 9, 1, 11, 5, 8, 5, 4, 1, 12, 10, 5, 12, 6, 11, 7, 3, 7, 2, 9, 10, 6, 11, 3, 5, 12, 5, 3, 2, 5, 4, 10, 2, 4, 6, 12, 11, 8, 6, 2, 7, 12, 10, 2, 4, 3, 4, 5, 12, 4, 1, 10, 3, 11, 4, 11, 4, 3, 9, 3, 12, 11, 1, 3, 2, 9, 10, 6, 2, 1, 7, 11, 3, 12, 6, 11, 8, 6, 11, 6, 12, 5, 9, 3, 10, 3, 2, 1, 9, 12, 2, 10, 3, 8, 7, 2, 5, 2, 12, 1, 4, 10, 12, 6, 5, 8, 3, 10, 9, 11, 6, 7, 10, 6, 7, 4, 1, 7, 6, 10, 8, 6, 4, 11, 5, 1, 4, 9, 2, 3, 1, 8, 7, 6, 2, 9, 1, 7, 10, 6, 2, 4, 9, 1, 8, 3, 4, 10, 7, 8, 2, 7, 4, 10, 7, 4, 7, 9, 11, 2, 10, 6, 9, 6, 5, 11, 4, 9, 5, 12, 4, 5, 11, 4, 3, 5, 3, 12, 10, 7, 2, 10, 2, 12, 2, 7, 10, 4, 3, 1, 4, 12, 5, 9, 8, 3, 11, 8, 4, 5, 1, 2, 6, 12, 11, 1, 7, 8, 2, 5, 11, 4, 2, 11, 12, 9, 11, 10, 1, 5, 4, 3, 4, 1, 6, 4, 3, 6, 3, 11, 5, 6, 4, 7, 11, 9, 12, 10, 3, 7, 10, 8, 4, 2, 5, 7, 10, 3, 6, 3, 10, 1, 10, 8, 6, 7, 6, 5, 12, 1, 5, 9, 1, 12, 4, 7, 1, 2, 3, 4, 11, 5, 4, 12, 2, 11, 2, 12, 3, 9, 1, 5, 12, 6, 8, 7, 6, 7, 12, 6, 3, 10, 1, 8, 10, 11, 9, 5, 3, 10, 4, 12, 10, 8, 6, 3, 8, 1, 3, 4, 8, 11, 5, 3, 4, 12, 8, 2, 5, 7, 9, 2, 9, 6, 8, 1, 6, 10, 7, 12, 1, 10, 12, 4, 5, 8, 4, 9, 2, 7, 11, 1, 11, 10, 4, 8, 11, 1, 9, 4, 8, 7, 11, 12, 7, 2, 10, 12, 8, 1, 12, 3, 7, 4, 12, 8, 12, 7, 5, 7, 6, 4, 8, 11, 1, 9, 2, 3, 5, 4, 6, 9, 11, 8, 12, 7, 12, 7, 3, 6, 8, 9, 5, 7, 1, 3, 5, 2, 11, 12, 7, 5, 10, 7, 11, 10, 2, 10, 12, 5, 10, 12, 5, 6, 1, 3, 2, 9, 12, 2, 11, 9, 4, 8, 9, 11, 9, 10, 1, 11, 12, 5, 7, 12, 7, 2, 10, 4, 12, 3, 5, 8, 9, 4, 6, 8, 9, 4, 6, 7, 1, 11, 10, 7, 1, 8, 10, 11, 12, 3, 6, 9, 7, 1, 5, 6, 9, 12, 3, 8, 10, 9, 7, 3, 7, 9, 7, 9, 4, 7, 4, 6, 1, 6, 1, 11, 7, 4, 7, 3, 8, 1, 3, 8, 7, 2, 7, 5, 10, 9, 7, 5, 6, 10, 11, 6, 1, 6, 12, 3, 7, 5, 10, 1, 6, 10, 11, 6, 10, 11, 7, 5, 10, 11, 7]\n"
          ]
        }
      ],
      "source": [
        "print('The actual sequence:')\n",
        "print('End: ', big_long_answer[-3:])\n",
        "print('Start: ', big_long_answer[:1])\n",
        "print(big_long_answer)"
      ]
    },
    {
      "cell_type": "markdown",
      "metadata": {
        "id": "95s34At8Otlh"
      },
      "source": [
        "## Saving sequence"
      ]
    },
    {
      "cell_type": "code",
      "execution_count": 5,
      "metadata": {
        "colab": {
          "base_uri": "https://localhost:8080/",
          "height": 250
        },
        "id": "IYpedgr1OqJK",
        "outputId": "d3848214-3355-42ae-a81c-454bf5357956"
      },
      "outputs": [],
      "source": [
        "user = os.getlogin()\n",
        "\n",
        "path2save = f'/Users/{user}/Box Sync/willdecker/LSU Undergrad/Honors-Thesis/github/statistical_learning_sequencing/'\n",
        "filename = 'index.csv'\n",
        "x = pd.DataFrame(big_long_answer).to_csv(path2save + filename)"
      ]
    },
    {
      "cell_type": "markdown",
      "metadata": {},
      "source": [
        "## Appending syllables"
      ]
    },
    {
      "cell_type": "code",
      "execution_count": null,
      "metadata": {},
      "outputs": [],
      "source": [
        "syls = [\"di\", \"da\", \"du\", \"pi\", \"pa\", \"pu\", \"bi\", \"ba\", \"bu\", \"ti\", \"tu\", \"ta\"]\n",
        "syllist = []\n",
        "\n",
        "for j in big_long_answer:\n",
        "  for i in range(len(syls)):\n",
        "    if i+1 == j:\n",
        "      syllist.append(syls[i])\n"
      ]
    },
    {
      "cell_type": "markdown",
      "metadata": {},
      "source": [
        "## Project specific sequences"
      ]
    },
    {
      "cell_type": "code",
      "execution_count": 9,
      "metadata": {},
      "outputs": [
        {
          "name": "stdout",
          "output_type": "stream",
          "text": [
            "number of times tried: 1\n",
            "Sequence achieved\n"
          ]
        }
      ],
      "source": [
        "import sl_sequencing as sls\n",
        "\n",
        "# creating random sequence\n",
        "r = sls.Sequence(total=792, vector_size=12).sequence()\n",
        "inpt = {\n",
        "    1: 'pi.wav',\n",
        "    2: 'pu.wav',\n",
        "    3: 'pa.wav',\n",
        "    4: 'ti.wav',\n",
        "    5: 'tu.wav',\n",
        "    6: 'ta.wav',\n",
        "    7: 'bi.wav',\n",
        "    8: 'bu.wav',\n",
        "    9: 'ba.wav',\n",
        "    10: 'di.wav',\n",
        "    11: 'du.wav',\n",
        "    12: 'da.wav'\n",
        "}\n",
        "\n",
        "r.match(inpt=inpt)\n",
        "r.save_match_csv('randseq.csv')"
      ]
    },
    {
      "cell_type": "code",
      "execution_count": 4,
      "metadata": {},
      "outputs": [
        {
          "name": "stdout",
          "output_type": "stream",
          "text": [
            "number of times tried: 1\n",
            "Sequence achieved\n"
          ]
        }
      ],
      "source": [
        "from itertools import chain\n",
        "\n",
        "# creating structured sequence\n",
        "s = sls.Sequence(total=264, vector_size=4).sequence()\n",
        "inpt2 = {\n",
        "    1: ['pi.wav', 'tu.wav', 'bi.wav'],\n",
        "    2: ['bu.wav', 'pa.wav', 'da.wav'],\n",
        "    3: ['di.wav', 'ba.wav', 'pu.wav'],\n",
        "    4: ['ta.wav', 'ti.wav', 'du.wav']\n",
        "    \n",
        "}\n",
        "\n",
        "s.match(inpt=inpt2, unlist=True)\n",
        "s.save_match_csv('strseq.csv')"
      ]
    },
    {
      "cell_type": "code",
      "execution_count": null,
      "metadata": {},
      "outputs": [],
      "source": []
    }
  ],
  "metadata": {
    "colab": {
      "provenance": []
    },
    "kernelspec": {
      "display_name": "Python 3",
      "name": "python3"
    },
    "language_info": {
      "codemirror_mode": {
        "name": "ipython",
        "version": 3
      },
      "file_extension": ".py",
      "mimetype": "text/x-python",
      "name": "python",
      "nbconvert_exporter": "python",
      "pygments_lexer": "ipython3",
      "version": "3.10.7"
    }
  },
  "nbformat": 4,
  "nbformat_minor": 0
}
