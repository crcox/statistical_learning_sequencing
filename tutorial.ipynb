{
 "cells": [
  {
   "cell_type": "markdown",
   "metadata": {},
   "source": [
    "# Statistical Learning Sequencing\n",
    "\n",
    "Here in this tutorial, I will walk through the module `sl_sequencing.py`. The code and algorithm developed in the module was written by [Harrison Gietz](https://github.com/hubarruby). The purpose of the module is to develop a sequence of numbers in which the numbers \n",
    "1. do not repeat\n",
    "2. have an equal amount of observations of each number and \n",
    "3. have an equal number of all possible transitions to a number occur. \n",
    "\n",
    "This sequence can then be used for other purposes, like generating stimuli for statistical learning paradigms."
   ]
  },
  {
   "cell_type": "markdown",
   "metadata": {},
   "source": [
    "## Getting started. \n",
    "\n",
    "The module is written in an object oriented fashion. Let's start by\n",
    "\n",
    "1. Importing the module\n",
    "2. Setting the `Sequence` class. The class requires two parameters: your total sequence length, and a vector length. This vector is a non-zero indexed vector. So if you say `vector_size=4`, you are generating a vector $v = \\{1, 2, 3, 4\\}$."
   ]
  },
  {
   "cell_type": "code",
   "execution_count": 2,
   "metadata": {},
   "outputs": [],
   "source": [
    "# import \n",
    "from sl_sequencing import Sequence\n",
    "\n",
    "# assigning class\n",
    "sequence = Sequence(total=132, vector_size=4)"
   ]
  },
  {
   "cell_type": "markdown",
   "metadata": {},
   "source": [
    "This generates a sequence that is 132 values in length that is composed of the values in vector $v$. \n",
    "\n",
    "There is only one class in this module and all of its subsequent methods will be enough to generate a valid sequence.\n",
    "\n",
    "Now that you have your `Sequence`class initialized, you need to make the sequence."
   ]
  },
  {
   "cell_type": "code",
   "execution_count": 3,
   "metadata": {},
   "outputs": [
    {
     "name": "stdout",
     "output_type": "stream",
     "text": [
      "number of times tried: 1\n",
      "Sequence achieved\n"
     ]
    },
    {
     "data": {
      "text/plain": [
       "<sl_sequencing.Sequence at 0x1065842b0>"
      ]
     },
     "execution_count": 3,
     "metadata": {},
     "output_type": "execute_result"
    }
   ],
   "source": [
    "# make sequence\n",
    "sequence.sequence()"
   ]
  },
  {
   "cell_type": "markdown",
   "metadata": {},
   "source": [
    "The output is telling you that it took the algorithm one try to create a valid sequence given you parameters. Depending on your `vector_size` and `total` this may increase or decrease.\n",
    "\n",
    "To see you sequence simply call the attribute generated from the `Sequence.sequence()` method"
   ]
  },
  {
   "cell_type": "code",
   "execution_count": 5,
   "metadata": {},
   "outputs": [
    {
     "name": "stdout",
     "output_type": "stream",
     "text": [
      "[3, 4, 1, 4, 3, 2, 4, 2, 3, 4, 2, 3, 1, 3, 2, 1, 3, 2, 1, 2, 3, 1, 2, 1, 4, 3, 4, 1, 3, 2, 3, 1, 2, 3, 2, 1, 4, 3, 1, 3, 1, 3, 2, 1, 2, 4, 3, 1, 2, 1, 2, 3, 1, 4, 2, 1, 2, 4, 2, 1, 2, 1, 2, 4, 1, 2, 4, 2, 4, 2, 1, 4, 2, 3, 1, 2, 3, 2, 4, 1, 3, 4, 1, 3, 1, 3, 1, 4, 1, 3, 2, 3, 1, 3, 4, 3, 2, 1, 3, 2, 3, 4, 3, 2, 3, 4, 3, 4, 2, 4, 1, 4, 3, 4, 2, 4, 1, 4, 3, 4, 3, 4, 2, 4, 1, 4, 1, 4, 1, 4, 2, 4]\n"
     ]
    }
   ],
   "source": [
    "# viewing valid numeric sequence\n",
    "print(sequence.valid_sequence)"
   ]
  },
  {
   "cell_type": "markdown",
   "metadata": {},
   "source": [
    "You can also check the validity of the sequence, which will provide a cursory overview of the sequence's adherence to the parameters. "
   ]
  },
  {
   "cell_type": "code",
   "execution_count": 7,
   "metadata": {},
   "outputs": [
    {
     "name": "stdout",
     "output_type": "stream",
     "text": [
      "total length of list: 132\n",
      "\n",
      "Checking transition counts: \n",
      "Transition counts from 1: {2: 11, 3: 11, 4: 11}\n",
      "Transition counts from 2: {1: 11, 3: 11, 4: 11}\n",
      "Transition counts from 3: {1: 11, 2: 11, 4: 11}\n",
      "Transition counts from 4: {1: 11, 2: 11, 3: 11}\n",
      "\n",
      "Double Checking transition counts (with different method): \n",
      "Transition counts for 1: \n",
      "     There were 11 transitions to 2: \n",
      "     There were 11 transitions to 3: \n",
      "     There were 11 transitions to 4: \n",
      "Transition counts for 2: \n",
      "     There were 11 transitions to 1: \n",
      "     There were 11 transitions to 3: \n",
      "     There were 11 transitions to 4: \n",
      "Transition counts for 3: \n",
      "     There were 11 transitions to 1: \n",
      "     There were 11 transitions to 2: \n",
      "     There were 11 transitions to 4: \n",
      "Transition counts for 4: \n",
      "     There were 11 transitions to 1: \n",
      "     There were 11 transitions to 2: \n",
      "     There were 10 transitions to 3: \n",
      "\n",
      "Checking number counts: \n",
      "1: 33\n",
      "2: 33\n",
      "3: 33\n",
      "4: 33\n"
     ]
    }
   ],
   "source": [
    "# check sequence \n",
    "sequence.validate()"
   ]
  },
  {
   "cell_type": "markdown",
   "metadata": {},
   "source": [
    "Above, you can see that the sequence meets all of the requirements imposed upon it. If you wish, you can save this sequence as a .csv file."
   ]
  },
  {
   "cell_type": "code",
   "execution_count": null,
   "metadata": {},
   "outputs": [],
   "source": [
    "# save to .csv\n",
    "sequence.save_csv(filename='sequence.csv')"
   ]
  },
  {
   "cell_type": "markdown",
   "metadata": {},
   "source": [
    "Despite this ease of use, you can take the sequence generation a step further. Say you are using the sequence to generate a random order of stimuli. You can replace the numeric values generated by `Sequence.sequence()` with strings so that you now have a valid sequence of whatever you want, not just some arbitrary numbers. To do this you must\n",
    "\n",
    "1. Define a dictionary in which the keys represent the numeric values in your original sequence (or really, the vector, $v$, generated when you provide an argument to the parameter `vector_size`) and the the values in the dictionary represent the replacement items.\n",
    "\n",
    "Let's check this out below."
   ]
  },
  {
   "cell_type": "code",
   "execution_count": 8,
   "metadata": {},
   "outputs": [
    {
     "name": "stdout",
     "output_type": "stream",
     "text": [
      "['pink.png', 'purple.png', 'blue.png', 'purple.png', 'pink.png', 'red.png', 'purple.png', 'red.png', 'pink.png', 'purple.png', 'red.png', 'pink.png', 'blue.png', 'pink.png', 'red.png', 'blue.png', 'pink.png', 'red.png', 'blue.png', 'red.png', 'pink.png', 'blue.png', 'red.png', 'blue.png', 'purple.png', 'pink.png', 'purple.png', 'blue.png', 'pink.png', 'red.png', 'pink.png', 'blue.png', 'red.png', 'pink.png', 'red.png', 'blue.png', 'purple.png', 'pink.png', 'blue.png', 'pink.png', 'blue.png', 'pink.png', 'red.png', 'blue.png', 'red.png', 'purple.png', 'pink.png', 'blue.png', 'red.png', 'blue.png', 'red.png', 'pink.png', 'blue.png', 'purple.png', 'red.png', 'blue.png', 'red.png', 'purple.png', 'red.png', 'blue.png', 'red.png', 'blue.png', 'red.png', 'purple.png', 'blue.png', 'red.png', 'purple.png', 'red.png', 'purple.png', 'red.png', 'blue.png', 'purple.png', 'red.png', 'pink.png', 'blue.png', 'red.png', 'pink.png', 'red.png', 'purple.png', 'blue.png', 'pink.png', 'purple.png', 'blue.png', 'pink.png', 'blue.png', 'pink.png', 'blue.png', 'purple.png', 'blue.png', 'pink.png', 'red.png', 'pink.png', 'blue.png', 'pink.png', 'purple.png', 'pink.png', 'red.png', 'blue.png', 'pink.png', 'red.png', 'pink.png', 'purple.png', 'pink.png', 'red.png', 'pink.png', 'purple.png', 'pink.png', 'purple.png', 'red.png', 'purple.png', 'blue.png', 'purple.png', 'pink.png', 'purple.png', 'red.png', 'purple.png', 'blue.png', 'purple.png', 'pink.png', 'purple.png', 'pink.png', 'purple.png', 'red.png', 'purple.png', 'blue.png', 'purple.png', 'blue.png', 'purple.png', 'blue.png', 'purple.png', 'red.png', 'purple.png']\n"
     ]
    }
   ],
   "source": [
    "## Replacing numeric values with strings of filenames\n",
    "\n",
    "# define dictionary\n",
    "inpt = {\n",
    "    1: 'blue.png', # the number '1' is replaced by 'blue.png'...\n",
    "    2: 'red.png',\n",
    "    3: 'pink.png',\n",
    "    4: 'purple.png'\n",
    "}\n",
    "\n",
    "# replace\n",
    "sequence.match(inpt=inpt)\n",
    "\n",
    "# see new sequence\n",
    "print(sequence.match_sequence)"
   ]
  },
  {
   "cell_type": "markdown",
   "metadata": {},
   "source": [
    "In the case of statistical learning paradigms, in which this algorithm was originally generated for, there is typically a random and structured sequence that one might want to create. To create a structured sequence, you might want to assign whole chunks of things to a single value. This way, these entire chunks are what is written throughout the sequence, thus increasing the transitional probability for items within chunks. Let's take a look at how to implement this."
   ]
  },
  {
   "cell_type": "code",
   "execution_count": 9,
   "metadata": {},
   "outputs": [
    {
     "name": "stdout",
     "output_type": "stream",
     "text": [
      "['purple.png', 'pink.png', 'brown.png', 'orange.png', 'gray.png', 'turqoise.png', 'red.png', 'blue.png', 'white.png', 'orange.png', 'gray.png', 'turqoise.png', 'purple.png', 'pink.png', 'brown.png', 'black.png', 'green.png', 'yellow.png', 'orange.png', 'gray.png', 'turqoise.png', 'black.png', 'green.png', 'yellow.png', 'purple.png', 'pink.png', 'brown.png', 'orange.png', 'gray.png', 'turqoise.png', 'black.png', 'green.png', 'yellow.png', 'purple.png', 'pink.png', 'brown.png', 'red.png', 'blue.png', 'white.png', 'purple.png', 'pink.png', 'brown.png', 'black.png', 'green.png', 'yellow.png', 'red.png', 'blue.png', 'white.png', 'purple.png', 'pink.png', 'brown.png', 'black.png', 'green.png', 'yellow.png', 'red.png', 'blue.png', 'white.png', 'black.png', 'green.png', 'yellow.png', 'purple.png', 'pink.png', 'brown.png', 'red.png', 'blue.png', 'white.png', 'black.png', 'green.png', 'yellow.png', 'red.png', 'blue.png', 'white.png', 'orange.png', 'gray.png', 'turqoise.png', 'purple.png', 'pink.png', 'brown.png', 'orange.png', 'gray.png', 'turqoise.png', 'red.png', 'blue.png', 'white.png', 'purple.png', 'pink.png', 'brown.png', 'black.png', 'green.png', 'yellow.png', 'purple.png', 'pink.png', 'brown.png', 'red.png', 'blue.png', 'white.png', 'black.png', 'green.png', 'yellow.png', 'purple.png', 'pink.png', 'brown.png', 'black.png', 'green.png', 'yellow.png', 'red.png', 'blue.png', 'white.png', 'orange.png', 'gray.png', 'turqoise.png', 'purple.png', 'pink.png', 'brown.png', 'red.png', 'blue.png', 'white.png', 'purple.png', 'pink.png', 'brown.png', 'red.png', 'blue.png', 'white.png', 'purple.png', 'pink.png', 'brown.png', 'black.png', 'green.png', 'yellow.png', 'red.png', 'blue.png', 'white.png', 'black.png', 'green.png', 'yellow.png', 'orange.png', 'gray.png', 'turqoise.png', 'purple.png', 'pink.png', 'brown.png', 'red.png', 'blue.png', 'white.png', 'black.png', 'green.png', 'yellow.png', 'red.png', 'blue.png', 'white.png', 'black.png', 'green.png', 'yellow.png', 'purple.png', 'pink.png', 'brown.png', 'red.png', 'blue.png', 'white.png', 'orange.png', 'gray.png', 'turqoise.png', 'black.png', 'green.png', 'yellow.png', 'red.png', 'blue.png', 'white.png', 'black.png', 'green.png', 'yellow.png', 'orange.png', 'gray.png', 'turqoise.png', 'black.png', 'green.png', 'yellow.png', 'red.png', 'blue.png', 'white.png', 'black.png', 'green.png', 'yellow.png', 'red.png', 'blue.png', 'white.png', 'black.png', 'green.png', 'yellow.png', 'orange.png', 'gray.png', 'turqoise.png', 'red.png', 'blue.png', 'white.png', 'black.png', 'green.png', 'yellow.png', 'orange.png', 'gray.png', 'turqoise.png', 'black.png', 'green.png', 'yellow.png', 'orange.png', 'gray.png', 'turqoise.png', 'black.png', 'green.png', 'yellow.png', 'red.png', 'blue.png', 'white.png', 'orange.png', 'gray.png', 'turqoise.png', 'black.png', 'green.png', 'yellow.png', 'purple.png', 'pink.png', 'brown.png', 'red.png', 'blue.png', 'white.png', 'black.png', 'green.png', 'yellow.png', 'purple.png', 'pink.png', 'brown.png', 'black.png', 'green.png', 'yellow.png', 'orange.png', 'gray.png', 'turqoise.png', 'red.png', 'blue.png', 'white.png', 'purple.png', 'pink.png', 'brown.png', 'orange.png', 'gray.png', 'turqoise.png', 'red.png', 'blue.png', 'white.png', 'purple.png', 'pink.png', 'brown.png', 'red.png', 'blue.png', 'white.png', 'purple.png', 'pink.png', 'brown.png', 'red.png', 'blue.png', 'white.png', 'orange.png', 'gray.png', 'turqoise.png', 'red.png', 'blue.png', 'white.png', 'purple.png', 'pink.png', 'brown.png', 'black.png', 'green.png', 'yellow.png', 'purple.png', 'pink.png', 'brown.png', 'red.png', 'blue.png', 'white.png', 'purple.png', 'pink.png', 'brown.png', 'orange.png', 'gray.png', 'turqoise.png', 'purple.png', 'pink.png', 'brown.png', 'black.png', 'green.png', 'yellow.png', 'red.png', 'blue.png', 'white.png', 'purple.png', 'pink.png', 'brown.png', 'black.png', 'green.png', 'yellow.png', 'purple.png', 'pink.png', 'brown.png', 'orange.png', 'gray.png', 'turqoise.png', 'purple.png', 'pink.png', 'brown.png', 'black.png', 'green.png', 'yellow.png', 'purple.png', 'pink.png', 'brown.png', 'orange.png', 'gray.png', 'turqoise.png', 'purple.png', 'pink.png', 'brown.png', 'orange.png', 'gray.png', 'turqoise.png', 'black.png', 'green.png', 'yellow.png', 'orange.png', 'gray.png', 'turqoise.png', 'red.png', 'blue.png', 'white.png', 'orange.png', 'gray.png', 'turqoise.png', 'purple.png', 'pink.png', 'brown.png', 'orange.png', 'gray.png', 'turqoise.png', 'black.png', 'green.png', 'yellow.png', 'orange.png', 'gray.png', 'turqoise.png', 'red.png', 'blue.png', 'white.png', 'orange.png', 'gray.png', 'turqoise.png', 'purple.png', 'pink.png', 'brown.png', 'orange.png', 'gray.png', 'turqoise.png', 'purple.png', 'pink.png', 'brown.png', 'orange.png', 'gray.png', 'turqoise.png', 'black.png', 'green.png', 'yellow.png', 'orange.png', 'gray.png', 'turqoise.png', 'red.png', 'blue.png', 'white.png', 'orange.png', 'gray.png', 'turqoise.png', 'red.png', 'blue.png', 'white.png', 'orange.png', 'gray.png', 'turqoise.png', 'red.png', 'blue.png', 'white.png', 'orange.png', 'gray.png', 'turqoise.png', 'black.png', 'green.png', 'yellow.png', 'orange.png', 'gray.png', 'turqoise.png']\n"
     ]
    }
   ],
   "source": [
    "## Creating structur\n",
    "\n",
    "# define nested dictionary\n",
    "inpt = {\n",
    "    1: ['red.png', 'blue.png', 'white.png'],\n",
    "    2: ['black.png', 'green.png', 'yellow.png'],\n",
    "    3: ['purple.png', 'pink.png', 'brown.png'],\n",
    "    4: ['orange.png', 'gray.png', 'turqoise.png']\n",
    "}\n",
    "\n",
    "# replace\n",
    "sequence.match(inpt=inpt, unlist=True)\n",
    "\n",
    "# see new sequence\n",
    "print(sequence.match_sequence)"
   ]
  },
  {
   "cell_type": "markdown",
   "metadata": {},
   "source": [
    "You can use this nested list to create a more structured sequence which manipulates the transitional probabilites of the values in the sequence. However, if you are using a nested list, you must provide `unlist=True`.\n",
    "\n",
    "You can save this new sequence to a .csv file."
   ]
  },
  {
   "cell_type": "code",
   "execution_count": null,
   "metadata": {},
   "outputs": [],
   "source": [
    "sequence.save_match_csv(filename='match.csv')"
   ]
  }
 ],
 "metadata": {
  "kernelspec": {
   "display_name": "Python 3",
   "language": "python",
   "name": "python3"
  },
  "language_info": {
   "codemirror_mode": {
    "name": "ipython",
    "version": 3
   },
   "file_extension": ".py",
   "mimetype": "text/x-python",
   "name": "python",
   "nbconvert_exporter": "python",
   "pygments_lexer": "ipython3",
   "version": "3.10.7"
  },
  "orig_nbformat": 4
 },
 "nbformat": 4,
 "nbformat_minor": 2
}
